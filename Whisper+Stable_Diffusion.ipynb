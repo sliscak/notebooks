{
  "nbformat": 4,
  "nbformat_minor": 0,
  "metadata": {
    "colab": {
      "provenance": [],
      "collapsed_sections": [],
      "authorship_tag": "ABX9TyOIKYJPO9ptw/19ULZNe2F/",
      "include_colab_link": true
    },
    "kernelspec": {
      "name": "python3",
      "display_name": "Python 3"
    },
    "language_info": {
      "name": "python"
    },
    "accelerator": "GPU"
  },
  "cells": [
    {
      "cell_type": "markdown",
      "metadata": {
        "id": "view-in-github",
        "colab_type": "text"
      },
      "source": [
        "<a href=\"https://colab.research.google.com/github/sliscak/notebooks/blob/main/Whisper%2BStable_Diffusion.ipynb\" target=\"_parent\"><img src=\"https://colab.research.google.com/assets/colab-badge.svg\" alt=\"Open In Colab\"/></a>"
      ]
    },
    {
      "cell_type": "markdown",
      "source": [
        "Speech to image using [Whisper](https://github.com/openai/whisper) and [Stable Diffusion](https://github.com/CompVis/stable-diffusion) from [Diffusers](https://github.com/huggingface/diffusers) library\n",
        "\n",
        "---\n",
        "\n"
      ],
      "metadata": {
        "id": "Xbs-mTm8v7i-"
      }
    },
    {
      "cell_type": "markdown",
      "source": [
        "\n",
        "### Install requirements"
      ],
      "metadata": {
        "id": "fz0jjb8fbZHP"
      }
    },
    {
      "cell_type": "code",
      "source": [
        "!pip install --upgrade diffusers\n",
        "!pip install --upgrade gradio\n",
        "!pip install --upgrade ftfy\n",
        "!pip install git+https://github.com/openai/whisper.git"
      ],
      "metadata": {
        "id": "KjfEj__7aRkk",
        "collapsed": true
      },
      "execution_count": null,
      "outputs": []
    },
    {
      "cell_type": "code",
      "source": [
        "import gradio as gr\n",
        "import whisper\n",
        "import os\n",
        "from torch import autocast\n",
        "from diffusers import StableDiffusionPipeline\n",
        "from google.colab import output\n",
        "from huggingface_hub import notebook_login"
      ],
      "metadata": {
        "id": "2VfsukT6pcCE"
      },
      "execution_count": null,
      "outputs": []
    },
    {
      "cell_type": "code",
      "source": [
        "output.enable_custom_widget_manager()"
      ],
      "metadata": {
        "id": "cMf7szQ8vdTo"
      },
      "execution_count": null,
      "outputs": []
    },
    {
      "cell_type": "code",
      "source": [
        "# login to verify license\n",
        "notebook_login()"
      ],
      "metadata": {
        "id": "XK0yoxa0pqnt"
      },
      "execution_count": null,
      "outputs": []
    },
    {
      "cell_type": "code",
      "execution_count": null,
      "metadata": {
        "id": "0thUB-PjaPkR"
      },
      "outputs": [],
      "source": [
        "pipe = StableDiffusionPipeline.from_pretrained(\"CompVis/stable-diffusion-v1-4\", use_auth_token=True)\n",
        "pipe = pipe.to(\"cuda\")\n",
        "model = whisper.load_model(\"small\")\n",
        "\n",
        "def transcribe(audio):\n",
        "    audio = whisper.load_audio(audio)\n",
        "    audio = whisper.pad_or_trim(audio)\n",
        "    mel = whisper.log_mel_spectrogram(audio).to(model.device)\n",
        "    _, probs = model.detect_language(mel)\n",
        "    language = max(probs, key=probs.get)\n",
        "    options = whisper.DecodingOptions(language=language)\n",
        "    prompt = whisper.decode(model, mel, options).text\n",
        "    with autocast(\"cuda\"):\n",
        "        image = pipe(prompt).images[0]\n",
        "    return prompt, image\n",
        "\n",
        "block = gr.Blocks(css=\".container { margin: auto; }\")\n",
        "demo = gr.Interface(\n",
        "        fn=transcribe,\n",
        "        inputs=gr.Audio(source=\"microphone\", type=\"filepath\"),\n",
        "        outputs=[\"text\", \"image\"])\n",
        "\n",
        "demo.launch(debug=True)"
      ]
    }
  ]
}
