{
  "cells": [
    {
      "cell_type": "markdown",
      "metadata": {
        "id": "view-in-github",
        "colab_type": "text"
      },
      "source": [
        "<a href=\"https://colab.research.google.com/github/sliscak/notebooks/blob/main/Advanced_Whisper%2BStable_Diffusion.ipynb\" target=\"_parent\"><img src=\"https://colab.research.google.com/assets/colab-badge.svg\" alt=\"Open In Colab\"/></a>"
      ]
    },
    {
      "cell_type": "markdown",
      "metadata": {
        "id": "Xbs-mTm8v7i-"
      },
      "source": [
        "Speech to image using [Whisper](https://github.com/openai/whisper) and [Stable Diffusion](https://github.com/CompVis/stable-diffusion) from [Diffusers](https://github.com/huggingface/diffusers) library\n",
        "\n",
        "---\n",
        "\n"
      ]
    },
    {
      "cell_type": "markdown",
      "metadata": {
        "id": "fz0jjb8fbZHP"
      },
      "source": [
        "\n",
        "### Install requirements"
      ]
    },
    {
      "cell_type": "code",
      "execution_count": null,
      "metadata": {
        "id": "KjfEj__7aRkk"
      },
      "outputs": [],
      "source": [
        "!pip install --upgrade diffusers\n",
        "!pip install --upgrade gradio\n",
        "!pip install --upgrade ftfy\n",
        "!pip install git+https://github.com/openai/whisper.git"
      ]
    },
    {
      "cell_type": "code",
      "execution_count": null,
      "metadata": {
        "id": "2VfsukT6pcCE"
      },
      "outputs": [],
      "source": [
        "import gradio as gr\n",
        "import whisper\n",
        "import os\n",
        "import torch\n",
        "from torch import autocast\n",
        "from diffusers import StableDiffusionPipeline\n",
        "from google.colab import output\n",
        "from huggingface_hub import notebook_login"
      ]
    },
    {
      "cell_type": "code",
      "execution_count": null,
      "metadata": {
        "id": "cMf7szQ8vdTo"
      },
      "outputs": [],
      "source": [
        "output.enable_custom_widget_manager()"
      ]
    },
    {
      "cell_type": "code",
      "source": [
        "!nvidia-smi -L"
      ],
      "metadata": {
        "id": "d9o_rRlXlkZ9"
      },
      "execution_count": null,
      "outputs": []
    },
    {
      "cell_type": "code",
      "execution_count": null,
      "metadata": {
        "id": "XK0yoxa0pqnt"
      },
      "outputs": [],
      "source": [
        "# login to verify license\n",
        "notebook_login()"
      ]
    },
    {
      "cell_type": "code",
      "execution_count": null,
      "metadata": {
        "id": "0thUB-PjaPkR"
      },
      "outputs": [],
      "source": [
        "# device = 'cuda' if torch.cuda.is_available() else 'cpu'\n",
        "device = 'cuda'\n",
        "pipe = StableDiffusionPipeline.from_pretrained(\"CompVis/stable-diffusion-v1-4\", use_auth_token=True)\n",
        "pipe = pipe.to(device)\n",
        "model = whisper.load_model(\"base\").to(device) # or small, etc\n",
        "\n",
        "def transcribe(audio, language=None):\n",
        "    audio = whisper.load_audio(audio)\n",
        "    audio = whisper.pad_or_trim(audio)\n",
        "    mel = whisper.log_mel_spectrogram(audio).to(model.device)\n",
        "    if language is None or language == 'Autodetect':\n",
        "      _, probs = model.detect_language(mel)\n",
        "      language = max(probs, key=probs.get)\n",
        "    options = whisper.DecodingOptions(language=language, task='translate')\n",
        "    prompt = whisper.decode(model, mel, options, ).text\n",
        "    # print(prompt)\n",
        "    with autocast(device):\n",
        "        image = pipe(prompt).images[0]\n",
        "    return f'Detected language: {language}', prompt, image\n",
        "\n",
        "# block = gr.Blocks(css=\".container { margin: auto; }\")\n",
        "demo = gr.Interface(\n",
        "        fn=transcribe,\n",
        "        inputs=[gr.Audio(source=\"microphone\", type=\"filepath\"),\n",
        "                # let the user choose a language in case it was not correctly detected.\n",
        "                gr.Dropdown([\"Autodetect\"] + list(whisper.tokenizer.LANGUAGES.keys()), value=\"Autodetect\")],\n",
        "        outputs=[\"text\",\"text\", \"image\"])\n",
        "\n",
        "demo.launch(debug=True)"
      ]
    }
  ],
  "metadata": {
    "accelerator": "GPU",
    "colab": {
      "collapsed_sections": [],
      "provenance": [],
      "include_colab_link": true
    },
    "kernelspec": {
      "display_name": "Python 3",
      "name": "python3"
    },
    "language_info": {
      "name": "python"
    }
  },
  "nbformat": 4,
  "nbformat_minor": 0
}