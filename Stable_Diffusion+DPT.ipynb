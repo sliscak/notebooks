{
  "cells": [
    {
      "cell_type": "markdown",
      "metadata": {
        "id": "view-in-github",
        "colab_type": "text"
      },
      "source": [
        "<a href=\"https://colab.research.google.com/github/sliscak/notebooks/blob/main/Stable_Diffusion%2BDPT.ipynb\" target=\"_parent\"><img src=\"https://colab.research.google.com/assets/colab-badge.svg\" alt=\"Open In Colab\"/></a>"
      ]
    },
    {
      "cell_type": "markdown",
      "metadata": {
        "id": "Xbs-mTm8v7i-"
      },
      "source": [
        "Generating an image and its depth map using [Stable Diffusion](https://github.com/CompVis/stable-diffusion) from [Diffusers](https://github.com/huggingface/diffusers) library and [DPT](https://huggingface.co/Intel/dpt-large)\n",
        "\n",
        "---\n",
        "\n"
      ]
    },
    {
      "cell_type": "markdown",
      "metadata": {
        "id": "fz0jjb8fbZHP"
      },
      "source": [
        "\n",
        "### Install requirements"
      ]
    },
    {
      "cell_type": "code",
      "execution_count": null,
      "metadata": {
        "id": "KjfEj__7aRkk"
      },
      "outputs": [],
      "source": [
        "%%capture\n",
        "!pip install --upgrade diffusers\n",
        "!pip install --upgrade gradio\n",
        "!pip install --upgrade transformers\n",
        "!pip install --upgrade ftfy"
      ]
    },
    {
      "cell_type": "code",
      "execution_count": null,
      "metadata": {
        "id": "2VfsukT6pcCE"
      },
      "outputs": [],
      "source": [
        "import gradio as gr\n",
        "import os\n",
        "import torch\n",
        "from torch import autocast\n",
        "from diffusers import StableDiffusionPipeline\n",
        "from google.colab import output\n",
        "from huggingface_hub import notebook_login\n",
        "from transformers import DPTFeatureExtractor, DPTForDepthEstimation\n",
        "import torch\n",
        "import numpy as np\n",
        "from PIL import Image\n",
        "import requests"
      ]
    },
    {
      "cell_type": "code",
      "execution_count": null,
      "metadata": {
        "id": "cMf7szQ8vdTo"
      },
      "outputs": [],
      "source": [
        "output.enable_custom_widget_manager()"
      ]
    },
    {
      "cell_type": "code",
      "execution_count": null,
      "metadata": {
        "colab": {
          "base_uri": "https://localhost:8080/"
        },
        "id": "d9o_rRlXlkZ9",
        "outputId": "3c58ee51-0c61-4d61-bc95-5b62cf1879cb"
      },
      "outputs": [
        {
          "name": "stdout",
          "output_type": "stream",
          "text": [
            "GPU 0: Tesla T4 (UUID: GPU-441292ba-df42-0508-914a-f5aad2262f02)\n"
          ]
        }
      ],
      "source": [
        "!nvidia-smi -L"
      ]
    },
    {
      "cell_type": "code",
      "execution_count": null,
      "metadata": {
        "id": "XK0yoxa0pqnt"
      },
      "outputs": [],
      "source": [
        "# login to verify license\n",
        "notebook_login()"
      ]
    },
    {
      "cell_type": "code",
      "execution_count": null,
      "metadata": {
        "colab": {
          "base_uri": "https://localhost:8080/"
        },
        "id": "CmuKHd5Clbyn",
        "outputId": "d0df8b92-f8bf-4bdc-9093-e64059f241b6"
      },
      "outputs": [
        {
          "name": "stderr",
          "output_type": "stream",
          "text": [
            "Some weights of DPTForDepthEstimation were not initialized from the model checkpoint at Intel/dpt-large and are newly initialized: ['neck.fusion_stage.layers.0.residual_layer1.convolution1.bias', 'neck.fusion_stage.layers.0.residual_layer1.convolution2.bias', 'neck.fusion_stage.layers.0.residual_layer1.convolution1.weight', 'neck.fusion_stage.layers.0.residual_layer1.convolution2.weight']\n",
            "You should probably TRAIN this model on a down-stream task to be able to use it for predictions and inference.\n"
          ]
        }
      ],
      "source": [
        "# device = 'cuda' if torch.cuda.is_available() else 'cpu'\n",
        "device = 'cuda'\n",
        "# pipe = StableDiffusionPipeline.from_pretrained(\"hakurei/waifu-diffusion\", use_auth_token=False)\n",
        "pipe = StableDiffusionPipeline.from_pretrained(\"CompVis/stable-diffusion-v1-4\", use_auth_token=True)\n",
        "pipe = pipe.to(device)\n",
        "\n",
        "feature_extractor = DPTFeatureExtractor.from_pretrained(\"Intel/dpt-large\")\n",
        "model = DPTForDepthEstimation.from_pretrained(\"Intel/dpt-large\").to(device)"
      ]
    },
    {
      "cell_type": "code",
      "execution_count": null,
      "metadata": {
        "colab": {
          "background_save": true
        },
        "id": "0thUB-PjaPkR"
      },
      "outputs": [],
      "source": [
        "torch.cuda.empty_cache()\n",
        "def get_depth_map(prompt):\n",
        "    # print(prompt)\n",
        "    with autocast(device):\n",
        "        image = pipe(prompt).images[0]\n",
        "        # <⬇︎> code taken from https://huggingface.co/Intel/dpt-large (the how to use section)\n",
        "        inputs = feature_extractor(images=image, return_tensors=\"pt\").to(device)\n",
        "        with torch.no_grad():\n",
        "            outputs = model(**inputs)\n",
        "            predicted_depth = outputs.predicted_depth\n",
        "            prediction = torch.nn.functional.interpolate(\n",
        "                predicted_depth.unsqueeze(1),\n",
        "                size=image.size[::-1],\n",
        "                mode=\"bicubic\",\n",
        "                align_corners=False,)\n",
        "            output = prediction.squeeze().cpu().numpy()\n",
        "            formatted = (output * 255 / np.max(output)).astype(\"uint8\")\n",
        "            depth = Image.fromarray(formatted)\n",
        "        # <⬆ end of code>\n",
        "    return image, depth\n",
        "\n",
        "with gr.Blocks() as demo:\n",
        "    with gr.Row():\n",
        "        text = gr.Text()\n",
        "        image = gr.Image(label='output image')\n",
        "        depth = gr.Image(label='depth')\n",
        "    with gr.Row():\n",
        "        button = gr.Button('send')\n",
        "        output1 = gr.Text(label='output1')\n",
        "    button.click(fn=get_depth_map, inputs=text, outputs=[image, depth])\n",
        "\n",
        "\n",
        "demo.launch(debug=True)"
      ]
    }
  ],
  "metadata": {
    "accelerator": "GPU",
    "colab": {
      "collapsed_sections": [],
      "provenance": [],
      "include_colab_link": true
    },
    "kernelspec": {
      "display_name": "Python 3",
      "name": "python3"
    },
    "language_info": {
      "name": "python"
    }
  },
  "nbformat": 4,
  "nbformat_minor": 0
}